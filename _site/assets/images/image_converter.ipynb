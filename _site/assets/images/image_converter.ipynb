{
 "cells": [
  {
   "cell_type": "code",
   "execution_count": 5,
   "id": "5a12ab32",
   "metadata": {},
   "outputs": [
    {
     "name": "stdout",
     "output_type": "stream",
     "text": [
      "✔ Converted: 2025_main.jpg → 2025_main.webp\n"
     ]
    }
   ],
   "source": [
    "from PIL import Image\n",
    "import os\n",
    "\n",
    "def convert_all_images_to_webp(directory, quality=80):\n",
    "    # 변환할 확장자 목록\n",
    "    valid_extensions = ['.jpg', '.jpeg', '.png']\n",
    "\n",
    "    # 디렉토리 순회\n",
    "    for filename in os.listdir(directory):\n",
    "        ext = os.path.splitext(filename)[1].lower()\n",
    "        if ext in valid_extensions:\n",
    "            input_path = os.path.join(directory, filename)\n",
    "            output_path = os.path.splitext(input_path)[0] + \".webp\"\n",
    "            \n",
    "            try:\n",
    "                image = Image.open(input_path).convert(\"RGB\")  # RGBA → RGB로 자동 변환\n",
    "                image.save(output_path, \"webp\", quality=quality)\n",
    "                print(f\"✔ Converted: {filename} → {os.path.basename(output_path)}\")\n",
    "            except Exception as e:\n",
    "                print(f\"✘ Failed: {filename} ({e})\")\n",
    "\n",
    "# 🔧 사용 예시\n",
    "convert_all_images_to_webp(\"./main-page\", quality=85)"
   ]
  },
  {
   "cell_type": "code",
   "execution_count": 3,
   "id": "c3d71588",
   "metadata": {},
   "outputs": [
    {
     "data": {
      "text/plain": [
       "'d:\\\\code\\\\kmaikms.github.io\\\\assets\\\\images'"
      ]
     },
     "execution_count": 3,
     "metadata": {},
     "output_type": "execute_result"
    }
   ],
   "source": [
    "import os\n",
    "os.getcwd()"
   ]
  },
  {
   "cell_type": "code",
   "execution_count": null,
   "id": "e47a2bcb",
   "metadata": {},
   "outputs": [],
   "source": []
  }
 ],
 "metadata": {
  "kernelspec": {
   "display_name": "base",
   "language": "python",
   "name": "python3"
  },
  "language_info": {
   "codemirror_mode": {
    "name": "ipython",
    "version": 3
   },
   "file_extension": ".py",
   "mimetype": "text/x-python",
   "name": "python",
   "nbconvert_exporter": "python",
   "pygments_lexer": "ipython3",
   "version": "3.12.7"
  }
 },
 "nbformat": 4,
 "nbformat_minor": 5
}
